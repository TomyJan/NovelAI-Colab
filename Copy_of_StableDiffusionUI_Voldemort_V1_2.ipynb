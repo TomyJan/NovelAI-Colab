{
  "nbformat": 4,
  "nbformat_minor": 0,
  "metadata": {
    "colab": {
      "provenance": [],
      "collapsed_sections": [
        "9qrpRUJpno7L"
      ],
      "include_colab_link": true
    },
    "kernelspec": {
      "name": "python3",
      "display_name": "Python 3"
    },
    "language_info": {
      "name": "python"
    },
    "accelerator": "GPU",
    "gpuClass": "standard"
  },
  "cells": [
    {
      "cell_type": "markdown",
      "metadata": {
        "id": "view-in-github",
        "colab_type": "text"
      },
      "source": [
        "<a href=\"https://colab.research.google.com/github/TomyJan/NovelAI-Colab/blob/main/Copy_of_StableDiffusionUI_Voldemort_V1_2.ipynb\" target=\"_parent\"><img src=\"https://colab.research.google.com/assets/colab-badge.svg\" alt=\"Open In Colab\"/></a>"
      ]
    },
    {
      "cell_type": "markdown",
      "source": [
        "Adapted from: https://colab.research.google.com/drive/1AfAmwLMd_Vx33O9IwY2TmO9wKZ8ABRRa"
      ],
      "metadata": {
        "id": "gfKvWAVnz8OB"
      }
    },
    {
      "cell_type": "code",
      "source": [
        "import os\n",
        "os.kill(os.getpid(), 9) # This will crash Colab (required, everything will still be intact so dont worry)"
      ],
      "metadata": {
        "id": "p8FI40sFj9tU"
      },
      "execution_count": null,
      "outputs": []
    },
    {
      "cell_type": "markdown",
      "source": [
        "Clone webui repository"
      ],
      "metadata": {
        "id": "OHCtG9MT0jLq"
      }
    },
    {
      "cell_type": "code",
      "source": [
        "!git clone https://github.com/AUTOMATIC1111/stable-diffusion-webui\n",
        "%cd stable-diffusion-webui"
      ],
      "metadata": {
        "id": "sBbcB4vwj_jm",
        "colab": {
          "base_uri": "https://localhost:8080/"
        },
        "outputId": "4600bc49-1a0f-4e67-f23c-0acbeb0b44c2"
      },
      "execution_count": 1,
      "outputs": [
        {
          "output_type": "stream",
          "name": "stdout",
          "text": [
            "Cloning into 'stable-diffusion-webui'...\n",
            "remote: Enumerating objects: 5217, done.\u001b[K\n",
            "remote: Counting objects: 100% (96/96), done.\u001b[K\n",
            "remote: Compressing objects: 100% (52/52), done.\u001b[K\n",
            "remote: Total 5217 (delta 61), reused 74 (delta 44), pack-reused 5121\u001b[K\n",
            "Receiving objects: 100% (5217/5217), 20.88 MiB | 47.83 MiB/s, done.\n",
            "Resolving deltas: 100% (3676/3676), done.\n",
            "/content/stable-diffusion-webui\n"
          ]
        }
      ]
    },
    {
      "cell_type": "markdown",
      "source": [
        "Download the model from huggingface. See link at the start for different ways."
      ],
      "metadata": {
        "id": "F0EINk5M0s-w"
      }
    },
    {
      "cell_type": "code",
      "source": [
        "#@title Normal 1.4 model\n",
        "# get a token from https://huggingface.co/settings/tokens\n",
        "user_token = \"\" #@param {type:\"string\"}\n",
        "user_header = f\"\\\"Authorization: Bearer {user_token}\\\"\"\n",
        "!wget --header={user_header} https://huggingface.co/CompVis/stable-diffusion-v-1-4-original/resolve/main/sd-v1-4.ckpt -O /content/stable-diffusion-webui/model.ckpt"
      ],
      "metadata": {
        "id": "CT_J9L7oqLxG",
        "colab": {
          "base_uri": "https://localhost:8080/"
        },
        "outputId": "a651bfa1-5cc7-4c6f-8469-681cc41dd045"
      },
      "execution_count": null,
      "outputs": [
        {
          "output_type": "stream",
          "name": "stdout",
          "text": [
            "--2022-09-29 16:32:23--  https://huggingface.co/CompVis/stable-diffusion-v-1-4-original/resolve/main/sd-v1-4.ckpt\n",
            "Resolving huggingface.co (huggingface.co)... 35.168.159.120, 54.173.5.192, 44.195.102.200, ...\n",
            "Connecting to huggingface.co (huggingface.co)|35.168.159.120|:443... connected.\n",
            "HTTP request sent, awaiting response... 302 Found\n",
            "Location: https://cdn-lfs.huggingface.co/repos/4c/37/4c372b4ebb57bbd02e68413d4951aa326d4b3cfb6e62db989e529c6d4b26fb21/fe4efff1e174c627256e44ec2991ba279b3816e364b49f9be2abc0b3ff3f8556?response-content-disposition=attachment%3B%20filename%3D%22sd-v1-4.ckpt%22 [following]\n",
            "--2022-09-29 16:32:24--  https://cdn-lfs.huggingface.co/repos/4c/37/4c372b4ebb57bbd02e68413d4951aa326d4b3cfb6e62db989e529c6d4b26fb21/fe4efff1e174c627256e44ec2991ba279b3816e364b49f9be2abc0b3ff3f8556?response-content-disposition=attachment%3B%20filename%3D%22sd-v1-4.ckpt%22\n",
            "Resolving cdn-lfs.huggingface.co (cdn-lfs.huggingface.co)... 13.227.254.52, 13.227.254.33, 13.227.254.47, ...\n",
            "Connecting to cdn-lfs.huggingface.co (cdn-lfs.huggingface.co)|13.227.254.52|:443... connected.\n",
            "HTTP request sent, awaiting response... 200 OK\n",
            "Length: 4265380512 (4.0G) [binary/octet-stream]\n",
            "Saving to: ‘/content/stable-diffusion-webui/model.ckpt’\n",
            "\n",
            "/content/stable-dif 100%[===================>]   3.97G   239MB/s    in 17s     \n",
            "\n",
            "2022-09-29 16:32:41 (246 MB/s) - ‘/content/stable-diffusion-webui/model.ckpt’ saved [4265380512/4265380512]\n",
            "\n"
          ]
        }
      ]
    },
    {
      "cell_type": "markdown",
      "source": [
        "Voldy doesn't explian what this does but it appears to replace the prior dependencies section, saving a few lines lmao "
      ],
      "metadata": {
        "id": "v2kY0Z05DwIN"
      }
    },
    {
      "cell_type": "code",
      "source": [
        "!COMMANDLINE_ARGS=\"--exit\" REQS_FILE=\"requirements.txt\" python launch.py"
      ],
      "metadata": {
        "colab": {
          "base_uri": "https://localhost:8080/"
        },
        "id": "IB19TzabDtYF",
        "outputId": "137244dd-9be3-4692-e095-b1ada90022d5"
      },
      "execution_count": null,
      "outputs": [
        {
          "output_type": "stream",
          "name": "stdout",
          "text": [
            "Python 3.7.14 (default, Sep  8 2022, 00:06:44) \n",
            "[GCC 7.5.0]\n",
            "Commit hash: a112168d2814d691936a7fb1d4cde5acb8440679\n",
            "Installing gfpgan\n",
            "Cloning Stable Diffusion into repositories/stable-diffusion...\n",
            "Cloning Taming Transformers into repositories/taming-transformers...\n",
            "Cloning K-diffusion into repositories/k-diffusion...\n",
            "Cloning CodeFormer into repositories/CodeFormer...\n",
            "Cloning BLIP into repositories/BLIP...\n",
            "Cloning LDSR into repositories/latent-diffusion...\n",
            "Installing requirements for CodeFormer\n",
            "Installing requirements for Web UI\n",
            "Exiting because of --exit argument\n"
          ]
        }
      ]
    },
    {
      "cell_type": "markdown",
      "source": [
        "Change into Web UI directory and download updates"
      ],
      "metadata": {
        "id": "S8nvm5f6AfaL"
      }
    },
    {
      "cell_type": "code",
      "source": [
        "%cd stable-diffusion-webui\n",
        "!git pull"
      ],
      "metadata": {
        "id": "I1j4j2NfAQye",
        "colab": {
          "base_uri": "https://localhost:8080/"
        },
        "outputId": "dbc529a3-3359-40b5-fa5f-593d898475b6"
      },
      "execution_count": null,
      "outputs": [
        {
          "output_type": "stream",
          "name": "stdout",
          "text": [
            "[Errno 2] No such file or directory: 'stable-diffusion-webui'\n",
            "/content/stable-diffusion-webui\n",
            "Already up to date.\n"
          ]
        }
      ]
    },
    {
      "cell_type": "code",
      "source": [
        "from google.colab import drive\n",
        "drive.mount('/content/drive')"
      ],
      "metadata": {
        "colab": {
          "base_uri": "https://localhost:8080/"
        },
        "id": "9i_1b3wK5R7Z",
        "outputId": "befb9234-11e0-41d9-f7ab-1e497ea6194d"
      },
      "execution_count": 2,
      "outputs": [
        {
          "output_type": "stream",
          "name": "stdout",
          "text": [
            "Mounted at /content/drive\n"
          ]
        }
      ]
    },
    {
      "cell_type": "code",
      "source": [
        "cp /content/drive/MyDrive/novelai/final-pruned.ckpt /content/stable-diffusion-webui/models/Stable-diffusion"
      ],
      "metadata": {
        "colab": {
          "base_uri": "https://localhost:8080/"
        },
        "id": "02B9glsH6-jH",
        "outputId": "c0ca019b-788c-4e15-e5c0-2d585728ef75"
      },
      "execution_count": 6,
      "outputs": [
        {
          "output_type": "stream",
          "name": "stdout",
          "text": [
            "cp: error reading '/content/drive/MyDrive/gdrive/final-pruned.ckpt': Input/output error\n"
          ]
        }
      ]
    },
    {
      "cell_type": "code",
      "source": [
        "cp /content/drive/MyDrive/novelai/final-pruned.vae.pt /content/stable-diffusion-webui/models/Stable-diffusion"
      ],
      "metadata": {
        "colab": {
          "base_uri": "https://localhost:8080/"
        },
        "id": "yN9YNQ348Ez_",
        "outputId": "25c666a1-6a98-454e-9f5c-b85988832b4c"
      },
      "execution_count": 7,
      "outputs": [
        {
          "output_type": "stream",
          "name": "stdout",
          "text": [
            "cp: error reading '/content/drive/MyDrive/gdrive/final-pruned.vae.pt': Input/output error\n"
          ]
        }
      ]
    },
    {
      "cell_type": "code",
      "source": [
        "cp -R /content/drive/MyDrive/novelai/hypernetworks /content/stable-diffusion-webui/models/"
      ],
      "metadata": {
        "colab": {
          "base_uri": "https://localhost:8080/"
        },
        "id": "N8UjKOh-8Eef",
        "outputId": "cdaf509a-50f6-437b-a2e8-9f376095fd33"
      },
      "execution_count": 8,
      "outputs": [
        {
          "output_type": "stream",
          "name": "stdout",
          "text": [
            "cp: error reading '/content/drive/MyDrive/gdrive/hypernetworks/aini.pt': Input/output error\n",
            "cp: error reading '/content/drive/MyDrive/gdrive/hypernetworks/anime.pt': Input/output error\n",
            "cp: error reading '/content/drive/MyDrive/gdrive/hypernetworks/anime_2.pt': Input/output error\n",
            "cp: error reading '/content/drive/MyDrive/gdrive/hypernetworks/anime_3.pt': Input/output error\n",
            "cp: error reading '/content/drive/MyDrive/gdrive/hypernetworks/furry.pt': Input/output error\n",
            "cp: error reading '/content/drive/MyDrive/gdrive/hypernetworks/furry_3.pt': Input/output error\n",
            "cp: error reading '/content/drive/MyDrive/gdrive/hypernetworks/furry_2.pt': Input/output error\n",
            "cp: error reading '/content/drive/MyDrive/gdrive/hypernetworks/furry_protogen.pt': Input/output error\n",
            "cp: error reading '/content/drive/MyDrive/gdrive/hypernetworks/furry_kemono.pt': Input/output error\n",
            "cp: error reading '/content/drive/MyDrive/gdrive/hypernetworks/furry_scalie.pt': Input/output error\n",
            "cp: error reading '/content/drive/MyDrive/gdrive/hypernetworks/furry_transformation.pt': Input/output error\n",
            "cp: error reading '/content/drive/MyDrive/gdrive/hypernetworks/pony.pt': Input/output error\n"
          ]
        }
      ]
    },
    {
      "cell_type": "markdown",
      "source": [
        "Launch web ui. You will get a link to nnn.gradio.app, follow it.\n",
        "\n",
        "Commandline arguments are:\n",
        "  - `--share` - create online gradio.app link\n",
        "  - `--gradio-debug` - print outputs to console\n",
        "  - `--gradio-auth me:qwerty` - add authentication to gradio: username me, password qwerty"
      ],
      "metadata": {
        "id": "xt8lbdmC04ox"
      }
    },
    {
      "cell_type": "code",
      "source": [
        "!COMMANDLINE_ARGS=\"--share --gradio-debug --gradio-auth me:qwerty\" REQS_FILE=\"requirements.txt\" python launch.py"
      ],
      "metadata": {
        "id": "R-xAdMA5wxXd",
        "colab": {
          "base_uri": "https://localhost:8080/"
        },
        "outputId": "b85f6673-ba48-4cb1-8b0f-f95c1af5f80b"
      },
      "execution_count": 10,
      "outputs": [
        {
          "output_type": "stream",
          "name": "stdout",
          "text": [
            "Python 3.7.14 (default, Sep  8 2022, 00:06:44) \n",
            "[GCC 7.5.0]\n",
            "Commit hash: 45fbd1c5fec887988ab555aac75a999d4f3aff40\n",
            "Installing requirements for Web UI\n",
            "Launching Web UI with arguments: --share --gradio-debug --gradio-auth me:qwerty\n",
            "LatentDiffusion: Running in eps-prediction mode\n",
            "DiffusionWrapper has 859.52 M params.\n",
            "making attention of type 'vanilla' with 512 in_channels\n",
            "Working with z of shape (1, 4, 32, 32) = 4096 dimensions.\n",
            "making attention of type 'vanilla' with 512 in_channels\n",
            "Loading weights [e3b0c442] from /content/stable-diffusion-webui/models/Stable-diffusion/final-pruned.ckpt\n",
            "Error verifying pickled file from /content/stable-diffusion-webui/models/Stable-diffusion/final-pruned.ckpt:\n",
            "Traceback (most recent call last):\n",
            "  File \"/content/stable-diffusion-webui/modules/safe.py\", line 57, in check_pt\n",
            "    with zipfile.ZipFile(filename) as z:\n",
            "  File \"/usr/lib/python3.7/zipfile.py\", line 1258, in __init__\n",
            "    self._RealGetContents()\n",
            "  File \"/usr/lib/python3.7/zipfile.py\", line 1325, in _RealGetContents\n",
            "    raise BadZipFile(\"File is not a zip file\")\n",
            "zipfile.BadZipFile: File is not a zip file\n",
            "\n",
            "During handling of the above exception, another exception occurred:\n",
            "\n",
            "Traceback (most recent call last):\n",
            "  File \"/content/stable-diffusion-webui/modules/safe.py\", line 76, in load\n",
            "    check_pt(filename)\n",
            "  File \"/content/stable-diffusion-webui/modules/safe.py\", line 68, in check_pt\n",
            "    unpickler.load()\n",
            "EOFError: Ran out of input\n",
            "\n",
            "\n",
            "The file may be malicious, so the program is not going to read it.\n",
            "You can skip this check with --disable-safe-unpickle commandline argument.\n",
            "Traceback (most recent call last):\n",
            "  File \"launch.py\", line 165, in <module>\n",
            "    start_webui()\n",
            "  File \"launch.py\", line 159, in start_webui\n",
            "    import webui\n",
            "  File \"/content/stable-diffusion-webui/webui.py\", line 82, in <module>\n",
            "    shared.sd_model = modules.sd_models.load_model()\n",
            "  File \"/content/stable-diffusion-webui/modules/sd_models.py\", line 175, in load_model\n",
            "    load_model_weights(sd_model, checkpoint_info)\n",
            "  File \"/content/stable-diffusion-webui/modules/sd_models.py\", line 138, in load_model_weights\n",
            "    if \"global_step\" in pl_sd:\n",
            "TypeError: argument of type 'NoneType' is not iterable\n"
          ]
        }
      ]
    },
    {
      "cell_type": "markdown",
      "source": [
        "commands for ***after*** you have gotten done with a session\n",
        "============================================================================"
      ],
      "metadata": {
        "id": "9qrpRUJpno7L"
      }
    },
    {
      "cell_type": "markdown",
      "source": [
        "Zip images for downloading on local drive (click the folder icon on the left, the one below {x})"
      ],
      "metadata": {
        "id": "zB-L8JpElKp-"
      }
    },
    {
      "cell_type": "code",
      "source": [
        "!zip -r /content/stable-diffusion-webui /content/stable-diffusion-webui/outputs "
      ],
      "metadata": {
        "id": "gBt5g_Dn0NFo"
      },
      "execution_count": null,
      "outputs": []
    },
    {
      "cell_type": "markdown",
      "source": [
        "Save images to Google Drive **Warning: this will cause google to scan your drive, so if you intend to use this and worry about that kind of stuff, probablly just set this up on a clean account that's just for this colab**"
      ],
      "metadata": {
        "id": "odNn2KF5lFmb"
      }
    },
    {
      "cell_type": "code",
      "source": [
        "from google.colab import drive # type: ignore\n",
        "\n",
        "try:\n",
        "   drive_path = \"/content/drive\"\n",
        "   drive.mount(drive_path,force_remount=False)\n",
        "except:\n",
        "   print(\"...error mounting drive or with drive path variables\")\n",
        "\n",
        "!cp -r \"/content/stable-diffusion-webui/outputs\" \"/content/drive/MyDrive\""
      ],
      "metadata": {
        "id": "zNEgJfbhDwI6"
      },
      "execution_count": null,
      "outputs": []
    }
  ]
}